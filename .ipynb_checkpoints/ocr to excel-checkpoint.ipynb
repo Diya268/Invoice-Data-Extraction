{
 "cells": [
  {
   "cell_type": "code",
   "execution_count": null,
   "id": "d4d1fc9a-0cfc-4888-a4a4-43596ceadbc4",
   "metadata": {},
   "outputs": [
    {
     "ename": "FileNotFoundError",
     "evalue": "[WinError 3] The system cannot find the path specified: 'savedimages'",
     "output_type": "error",
     "traceback": [
      "\u001b[1;31m---------------------------------------------------------------------------\u001b[0m",
      "\u001b[1;31mFileNotFoundError\u001b[0m                         Traceback (most recent call last)",
      "Cell \u001b[1;32mIn[2], line 31\u001b[0m\n\u001b[0;32m     27\u001b[0m invoice_data \u001b[38;5;241m=\u001b[39m {column: \u001b[38;5;124m\"\u001b[39m\u001b[38;5;124m\"\u001b[39m \u001b[38;5;28;01mfor\u001b[39;00m column \u001b[38;5;129;01min\u001b[39;00m column_mappings\u001b[38;5;241m.\u001b[39mvalues()} \n\u001b[0;32m     29\u001b[0m pytesseract\u001b[38;5;241m.\u001b[39mpytesseract\u001b[38;5;241m.\u001b[39mtesseract_cmd \u001b[38;5;241m=\u001b[39m \u001b[38;5;124mr\u001b[39m\u001b[38;5;124m'\u001b[39m\u001b[38;5;124mC:\u001b[39m\u001b[38;5;124m\\\u001b[39m\u001b[38;5;124mProgram Files\u001b[39m\u001b[38;5;124m\\\u001b[39m\u001b[38;5;124mTesseract-OCR\u001b[39m\u001b[38;5;124m\\\u001b[39m\u001b[38;5;124mtesseract.exe\u001b[39m\u001b[38;5;124m'\u001b[39m  \u001b[38;5;66;03m# Path to Tesseract-OCR\u001b[39;00m\n\u001b[1;32m---> 31\u001b[0m \u001b[38;5;28;01mfor\u001b[39;00m filename \u001b[38;5;129;01min\u001b[39;00m \u001b[43mos\u001b[49m\u001b[38;5;241;43m.\u001b[39;49m\u001b[43mlistdir\u001b[49m\u001b[43m(\u001b[49m\u001b[43mimage_directory\u001b[49m\u001b[43m)\u001b[49m:\n\u001b[0;32m     32\u001b[0m     \u001b[38;5;28;01mif\u001b[39;00m filename\u001b[38;5;241m.\u001b[39mendswith(\u001b[38;5;124m\"\u001b[39m\u001b[38;5;124m.png\u001b[39m\u001b[38;5;124m\"\u001b[39m):  \n\u001b[0;32m     33\u001b[0m         file_path \u001b[38;5;241m=\u001b[39m os\u001b[38;5;241m.\u001b[39mpath\u001b[38;5;241m.\u001b[39mjoin(image_directory, filename)\n",
      "\u001b[1;31mFileNotFoundError\u001b[0m: [WinError 3] The system cannot find the path specified: 'savedimages'"
     ]
    }
   ],
   "source": [
    "import cv2\n",
    "import pytesseract\n",
    "import pandas as pd\n",
    "import os\n",
    "from openpyxl import Workbook\n",
    "from openpyxl.utils.dataframe import dataframe_to_rows\n",
    "from openpyxl.styles import Alignment\n",
    "\n",
    "def clean_numeric(value):\n",
    "    return ''.join(ch for ch in value if ch.isdigit() or ch in ',.')\n",
    "\n",
    "image_directory = 'savedimages'\n",
    "excel_path = 'invoice_data.xlsx'\n",
    "\n",
    "column_mappings = {\n",
    "    'BA': 'Billing Address',\n",
    "    'INV': 'Invoice #',\n",
    "    'SA': 'Shipping Address',\n",
    "    'ORD_DATE': 'Order Date',\n",
    "    'INV_DATE': 'Invoice Date',\n",
    "    'TOTAL': 'Total Amount',\n",
    "    # Include additional mappings as needed\n",
    "}\n",
    "\n",
    "df = pd.DataFrame(columns=column_mappings.values())  \n",
    "\n",
    "invoice_data = {column: \"\" for column in column_mappings.values()} \n",
    "\n",
    "pytesseract.pytesseract.tesseract_cmd = r'C:\\Program Files\\Tesseract-OCR\\tesseract.exe'  # Path to Tesseract-OCR\n",
    "\n",
    "for filename in os.listdir(image_directory):\n",
    "    if filename.endswith(\".png\"):  \n",
    "        file_path = os.path.join(image_directory, filename)\n",
    "        img = cv2.imread(file_path)\n",
    "        extracted_text = pytesseract.image_to_string(img)\n",
    "        parts = filename.split('_')\n",
    "        class_name = '_'.join(parts[:-1]) \n",
    "        if class_name in column_mappings:\n",
    "            column_name = column_mappings[class_name]\n",
    "            if column_name == 'Total Amount':\n",
    "                extracted_text = clean_numeric(extracted_text)\n",
    "            invoice_data[column_name] = extracted_text.strip()\n",
    "\n",
    "new_row = pd.DataFrame([invoice_data])  \n",
    "df = pd.concat([df, new_row], ignore_index=True)\n",
    "\n",
    "writer = pd.ExcelWriter(excel_path, engine='openpyxl')\n",
    "df.to_excel(writer, index=False)\n",
    "\n",
    "workbook = writer.book\n",
    "worksheet = writer.sheets['Sheet1']\n",
    "\n",
    "for column_cells in worksheet.columns:\n",
    "    length = max(len(str(cell.value)) for cell in column_cells)\n",
    "    worksheet.column_dimensions[column_cells[0].column_letter].width = length\n",
    "\n",
    "writer.close()\n",
    "print(\"Excel file created and data stored successfully.\")\n"
   ]
  },
  {
   "cell_type": "code",
   "execution_count": null,
   "id": "295c0d65-6338-4b43-9cc3-b3a29c2f97c4",
   "metadata": {},
   "outputs": [],
   "source": []
  }
 ],
 "metadata": {
  "kernelspec": {
   "display_name": "Python 3",
   "language": "python",
   "name": "python3"
  },
  "language_info": {
   "codemirror_mode": {
    "name": "ipython",
    "version": 3
   },
   "file_extension": ".py",
   "mimetype": "text/x-python",
   "name": "python",
   "nbconvert_exporter": "python",
   "pygments_lexer": "ipython3",
   "version": "3.11.1"
  }
 },
 "nbformat": 4,
 "nbformat_minor": 5
}
