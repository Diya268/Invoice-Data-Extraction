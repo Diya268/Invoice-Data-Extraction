{
 "cells": [
  {
   "cell_type": "code",
   "execution_count": 1,
   "id": "57cf0ebd",
   "metadata": {},
   "outputs": [
    {
     "name": "stdout",
     "output_type": "stream",
     "text": [
      "Requirement already satisfied: ultralytics in c:\\users\\diyas\\appdata\\local\\programs\\python\\python311\\lib\\site-packages (8.3.94)\n",
      "Requirement already satisfied: numpy<=2.1.1,>=1.23.0 in c:\\users\\diyas\\appdata\\local\\programs\\python\\python311\\lib\\site-packages (from ultralytics) (1.26.4)\n",
      "Requirement already satisfied: matplotlib>=3.3.0 in c:\\users\\diyas\\appdata\\local\\programs\\python\\python311\\lib\\site-packages (from ultralytics) (3.8.2)\n",
      "Requirement already satisfied: opencv-python>=4.6.0 in c:\\users\\diyas\\appdata\\local\\programs\\python\\python311\\lib\\site-packages (from ultralytics) (4.9.0.80)\n",
      "Requirement already satisfied: pillow>=7.1.2 in c:\\users\\diyas\\appdata\\local\\programs\\python\\python311\\lib\\site-packages (from ultralytics) (10.2.0)\n",
      "Requirement already satisfied: pyyaml>=5.3.1 in c:\\users\\diyas\\appdata\\local\\programs\\python\\python311\\lib\\site-packages (from ultralytics) (6.0.2)\n",
      "Requirement already satisfied: requests>=2.23.0 in c:\\users\\diyas\\appdata\\local\\programs\\python\\python311\\lib\\site-packages (from ultralytics) (2.32.3)\n",
      "Requirement already satisfied: scipy>=1.4.1 in c:\\users\\diyas\\appdata\\local\\programs\\python\\python311\\lib\\site-packages (from ultralytics) (1.11.2)\n",
      "Requirement already satisfied: torch>=1.8.0 in c:\\users\\diyas\\appdata\\local\\programs\\python\\python311\\lib\\site-packages (from ultralytics) (2.6.0)\n",
      "Requirement already satisfied: torchvision>=0.9.0 in c:\\users\\diyas\\appdata\\local\\programs\\python\\python311\\lib\\site-packages (from ultralytics) (0.21.0)\n",
      "Requirement already satisfied: tqdm>=4.64.0 in c:\\users\\diyas\\appdata\\local\\programs\\python\\python311\\lib\\site-packages (from ultralytics) (4.67.1)\n",
      "Requirement already satisfied: psutil in c:\\users\\diyas\\appdata\\roaming\\python\\python311\\site-packages (from ultralytics) (5.9.8)\n",
      "Requirement already satisfied: py-cpuinfo in c:\\users\\diyas\\appdata\\local\\programs\\python\\python311\\lib\\site-packages (from ultralytics) (9.0.0)\n",
      "Requirement already satisfied: pandas>=1.1.4 in c:\\users\\diyas\\appdata\\local\\programs\\python\\python311\\lib\\site-packages (from ultralytics) (2.1.0)\n",
      "Requirement already satisfied: seaborn>=0.11.0 in c:\\users\\diyas\\appdata\\local\\programs\\python\\python311\\lib\\site-packages (from ultralytics) (0.13.2)\n",
      "Requirement already satisfied: ultralytics-thop>=2.0.0 in c:\\users\\diyas\\appdata\\local\\programs\\python\\python311\\lib\\site-packages (from ultralytics) (2.0.14)\n",
      "Requirement already satisfied: contourpy>=1.0.1 in c:\\users\\diyas\\appdata\\local\\programs\\python\\python311\\lib\\site-packages (from matplotlib>=3.3.0->ultralytics) (1.2.0)\n",
      "Requirement already satisfied: cycler>=0.10 in c:\\users\\diyas\\appdata\\local\\programs\\python\\python311\\lib\\site-packages (from matplotlib>=3.3.0->ultralytics) (0.12.1)\n",
      "Requirement already satisfied: fonttools>=4.22.0 in c:\\users\\diyas\\appdata\\local\\programs\\python\\python311\\lib\\site-packages (from matplotlib>=3.3.0->ultralytics) (4.47.2)\n",
      "Requirement already satisfied: kiwisolver>=1.3.1 in c:\\users\\diyas\\appdata\\local\\programs\\python\\python311\\lib\\site-packages (from matplotlib>=3.3.0->ultralytics) (1.4.5)\n",
      "Requirement already satisfied: packaging>=20.0 in c:\\users\\diyas\\appdata\\roaming\\python\\python311\\site-packages (from matplotlib>=3.3.0->ultralytics) (23.2)\n",
      "Requirement already satisfied: pyparsing>=2.3.1 in c:\\users\\diyas\\appdata\\local\\programs\\python\\python311\\lib\\site-packages (from matplotlib>=3.3.0->ultralytics) (3.1.1)\n",
      "Requirement already satisfied: python-dateutil>=2.7 in c:\\users\\diyas\\appdata\\local\\programs\\python\\python311\\lib\\site-packages (from matplotlib>=3.3.0->ultralytics) (2.8.2)\n",
      "Requirement already satisfied: pytz>=2020.1 in c:\\users\\diyas\\appdata\\local\\programs\\python\\python311\\lib\\site-packages (from pandas>=1.1.4->ultralytics) (2023.3.post1)\n",
      "Requirement already satisfied: tzdata>=2022.1 in c:\\users\\diyas\\appdata\\local\\programs\\python\\python311\\lib\\site-packages (from pandas>=1.1.4->ultralytics) (2023.3)\n",
      "Requirement already satisfied: charset-normalizer<4,>=2 in c:\\users\\diyas\\appdata\\local\\programs\\python\\python311\\lib\\site-packages (from requests>=2.23.0->ultralytics) (3.3.2)\n",
      "Requirement already satisfied: idna<4,>=2.5 in c:\\users\\diyas\\appdata\\local\\programs\\python\\python311\\lib\\site-packages (from requests>=2.23.0->ultralytics) (3.6)\n",
      "Requirement already satisfied: urllib3<3,>=1.21.1 in c:\\users\\diyas\\appdata\\local\\programs\\python\\python311\\lib\\site-packages (from requests>=2.23.0->ultralytics) (2.2.0)\n",
      "Requirement already satisfied: certifi>=2017.4.17 in c:\\users\\diyas\\appdata\\local\\programs\\python\\python311\\lib\\site-packages (from requests>=2.23.0->ultralytics) (2023.11.17)\n",
      "Requirement already satisfied: filelock in c:\\users\\diyas\\appdata\\local\\programs\\python\\python311\\lib\\site-packages (from torch>=1.8.0->ultralytics) (3.17.0)\n",
      "Requirement already satisfied: typing-extensions>=4.10.0 in c:\\users\\diyas\\appdata\\local\\programs\\python\\python311\\lib\\site-packages (from torch>=1.8.0->ultralytics) (4.12.2)\n",
      "Requirement already satisfied: networkx in c:\\users\\diyas\\appdata\\local\\programs\\python\\python311\\lib\\site-packages (from torch>=1.8.0->ultralytics) (3.4.2)\n",
      "Requirement already satisfied: jinja2 in c:\\users\\diyas\\appdata\\local\\programs\\python\\python311\\lib\\site-packages (from torch>=1.8.0->ultralytics) (3.1.2)\n",
      "Requirement already satisfied: fsspec in c:\\users\\diyas\\appdata\\local\\programs\\python\\python311\\lib\\site-packages (from torch>=1.8.0->ultralytics) (2024.12.0)\n",
      "Requirement already satisfied: sympy==1.13.1 in c:\\users\\diyas\\appdata\\local\\programs\\python\\python311\\lib\\site-packages (from torch>=1.8.0->ultralytics) (1.13.1)\n",
      "Requirement already satisfied: mpmath<1.4,>=1.1.0 in c:\\users\\diyas\\appdata\\local\\programs\\python\\python311\\lib\\site-packages (from sympy==1.13.1->torch>=1.8.0->ultralytics) (1.3.0)\n",
      "Requirement already satisfied: colorama in c:\\users\\diyas\\appdata\\local\\programs\\python\\python311\\lib\\site-packages (from tqdm>=4.64.0->ultralytics) (0.4.6)\n",
      "Requirement already satisfied: six>=1.5 in c:\\users\\diyas\\appdata\\local\\programs\\python\\python311\\lib\\site-packages (from python-dateutil>=2.7->matplotlib>=3.3.0->ultralytics) (1.16.0)\n",
      "Requirement already satisfied: MarkupSafe>=2.0 in c:\\users\\diyas\\appdata\\local\\programs\\python\\python311\\lib\\site-packages (from jinja2->torch>=1.8.0->ultralytics) (2.1.2)\n"
     ]
    }
   ],
   "source": [
    "!pip install ultralytics"
   ]
  },
  {
   "cell_type": "code",
   "execution_count": null,
   "id": "2596f34a-7569-482e-be58-44a52dfe4c16",
   "metadata": {},
   "outputs": [
    {
     "name": "stdout",
     "output_type": "stream",
     "text": [
      "\n",
      "0: 640x480 1 BA, 1 BAID, 1 INV, 1 INV_DATE, 1 INV_DATE_ID, 1 INV_ID, 1 SA, 1 SAID, 1 SLR, 1 SLR_ID, 2 TOTALs, 2 TOTAL_IDs, 117.6ms\n",
      "Speed: 3.5ms preprocess, 117.6ms inference, 0.9ms postprocess per image at shape (1, 3, 640, 480)\n",
      "Detection and extraction complete.\n"
     ]
    }
   ],
   "source": [
    "class_names = {\n",
    "    0: 'BA',\n",
    "    1: 'BAID',\n",
    "    2: 'INV',\n",
    "    3: 'INV_DATE',\n",
    "    4: 'INV_DATE_ID',\n",
    "    5: 'INV_ID',\n",
    "    6: 'ORD_DATE',\n",
    "    7: 'ORD_DATE_ID',\n",
    "    8: 'SA',\n",
    "    9: 'SAID',\n",
    "    10: 'SLR',\n",
    "    11: 'SLR_ID',\n",
    "    12: 'TOTAL',\n",
    "    13: 'TOTAL_ID',\n",
    "    14: 'CN'\n",
    "}\n",
    "\n",
    "\n",
    "import cv2\n",
    "import numpy as np\n",
    "from ultralytics import YOLO\n",
    "import os\n",
    "\n",
    "# Load the model\n",
    "model = YOLO('yolov8model/weights/last.pt')\n",
    "\n",
    "# Load the image\n",
    "image_path = r'C:\\Users\\diyas\\Desktop\\TECH ELECON\\Invoice Data Extraction\\Whole Project\\yolov8dataset\\train\\images\\401-default1-bill-company_png.rf.9b8cc6f67b83a495d49d54430e41a059.jpg'\n",
    "image = cv2.imread(image_path)\n",
    "if image is None:\n",
    "    print(\"Error loading image\")\n",
    "    exit()\n",
    "\n",
    "# Resize the image if necessary\n",
    "#resized_image = cv2.resize(image, (1020, 500))\n",
    "\n",
    "# Predict using the model\n",
    "results = model.predict(image)\n",
    "boxes = results[0].boxes.data\n",
    "\n",
    "# Directory for saving images\n",
    "save_path = r'C:\\Users\\diyas\\Desktop\\TECH ELECON\\Invoice Data Extraction\\Whole Project\\savedimages'\n",
    "if not os.path.exists(save_path):\n",
    "    os.makedirs(save_path)\n",
    "\n",
    "# Function to save cropped images with class name as filename\n",
    "def imgwrite(img, class_name, idx):\n",
    "    filename = f'{class_name}_{idx}.png'\n",
    "    cv2.imwrite(os.path.join(save_path, filename), img)\n",
    "\n",
    "# Process detected objects using the class_names dictionary\n",
    "for i, (xmin, ymin, xmax, ymax, conf, cls_id) in enumerate(boxes):\n",
    "    class_name = class_names.get(int(cls_id), \"Unknown\")  # Use the dictionary for class names\n",
    "    cropped_image = image[int(ymin):int(ymax), int(xmin):int(xmax)]\n",
    "    imgwrite(cropped_image, class_name, i)\n",
    "\n",
    "print(\"Detection and extraction complete.\")\n"
   ]
  },
  {
   "cell_type": "code",
   "execution_count": null,
   "id": "7610faf0-d4d6-4412-9d17-21fa21595229",
   "metadata": {},
   "outputs": [],
   "source": []
  }
 ],
 "metadata": {
  "kernelspec": {
   "display_name": "Python 3",
   "language": "python",
   "name": "python3"
  },
  "language_info": {
   "codemirror_mode": {
    "name": "ipython",
    "version": 3
   },
   "file_extension": ".py",
   "mimetype": "text/x-python",
   "name": "python",
   "nbconvert_exporter": "python",
   "pygments_lexer": "ipython3",
   "version": "3.11.1"
  }
 },
 "nbformat": 4,
 "nbformat_minor": 5
}
